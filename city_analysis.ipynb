{
 "cells": [
  {
   "cell_type": "code",
   "execution_count": null,
   "metadata": {},
   "outputs": [],
   "source": [
    "# Import Dependencies\n",
    "from pathlib import Path\n",
    "import matplotlib.pyplot as plt\n",
    "import pandas as pd\n",
    "import requests\n",
    "import json\n",
    "import hvplot.pandas\n",
    "\n",
    "# Import the API key\n",
    "from config import api_key"
   ]
  },
  {
   "cell_type": "code",
   "execution_count": null,
   "metadata": {},
   "outputs": [],
   "source": [
    "# Read in our csv file with city info and put it into a dataframe\n",
    "file_path = Path(\"worldcities.csv\")\n",
    "city_df = pd.read_csv(file_path)\n",
    "\n",
    "city_df"
   ]
  },
  {
   "cell_type": "code",
   "execution_count": null,
   "metadata": {},
   "outputs": [],
   "source": [
    "# Filter only for cities in the US with a population of 100,000 residents or more\n",
    "usa_df = city_df.loc[(city_df[\"country\"] == \"United States\") & (city_df[\"population\"] >= 100000)]\n",
    "\n",
    "usa_df = usa_df.rename(columns={\"admin_name\": \"state\"})\n",
    "usa_df[\"population\"] = usa_df[\"population\"].astype(\"int64\")\n",
    "\n",
    "usa_df"
   ]
  },
  {
   "cell_type": "code",
   "execution_count": null,
   "metadata": {},
   "outputs": [],
   "source": [
    "# Get a statistical overview of our columns\n",
    "usa_df.describe()"
   ]
  },
  {
   "cell_type": "code",
   "execution_count": null,
   "metadata": {},
   "outputs": [],
   "source": [
    "# Ensure that all columns have the proper data-types\n",
    "usa_df.dtypes"
   ]
  },
  {
   "cell_type": "code",
   "execution_count": null,
   "metadata": {},
   "outputs": [],
   "source": [
    "# Add new Air Quality Index Level columns for each city in dataframe\n",
    "usa_df[\"AQI\"] = \" \"\n",
    "usa_df[\"CO\"] = \" \"\n",
    "usa_df[\"NO\"] = \" \"\n",
    "usa_df[\"NO2\"] = \" \"\n",
    "usa_df[\"O3\"] = \" \"\n",
    "usa_df[\"SO2\"] = \" \"\n",
    "usa_df[\"PM2.5\"] = \" \"\n",
    "usa_df[\"PM10\"] = \" \"\n",
    "usa_df[\"NH3\"] = \" \"\n",
    "\n",
    "usa_df"
   ]
  },
  {
   "cell_type": "code",
   "execution_count": null,
   "metadata": {},
   "outputs": [],
   "source": [
    "# Set base URL and params to search for current air pollution data\n",
    "base_url = \"http://api.openweathermap.org/data/2.5/air_pollution?\"\n",
    "\n",
    "params = {\"appid\":api_key}\n",
    "\n",
    "# Print a message to follow up the air pollution search\n",
    "print(\"Starting city air pollution details search:\")\n",
    "\n",
    "# Iterate through the usa_df dataframe\n",
    "for index, row in usa_df.iterrows():\n",
    "    \n",
    "    # Get city name, latitude, and longitude values for each row in dataframe\n",
    "    city = row[\"city\"]\n",
    "    lat = row[\"lat\"]\n",
    "    lng = row[\"lng\"]\n",
    "    \n",
    "    # Add the current city's latitude and longitude to the params dictionary\n",
    "    params[\"lat\"] = lat\n",
    "    params[\"lon\"] = lng\n",
    "    \n",
    "    # Make an API request using params dictionary and store it into a json\n",
    "    response = requests.get(base_url, params=params)\n",
    "    data = response.json()\n",
    "    \n",
    "    # Drill down to get the values we are looking for in the json and store those values in our dataframe\n",
    "    try:\n",
    "        usa_df.loc[index, \"AQI\"] = data[\"list\"][0][\"main\"][\"aqi\"]\n",
    "        usa_df.loc[index, \"CO\"] = data[\"list\"][0][\"components\"][\"co\"]\n",
    "        usa_df.loc[index, \"NO\"] = data[\"list\"][0][\"components\"][\"no\"]\n",
    "        usa_df.loc[index, \"NO2\"] = data[\"list\"][0][\"components\"][\"no2\"]\n",
    "        usa_df.loc[index, \"O3\"] = data[\"list\"][0][\"components\"][\"o3\"]\n",
    "        usa_df.loc[index, \"SO2\"] = data[\"list\"][0][\"components\"][\"so2\"]\n",
    "        usa_df.loc[index, \"PM2.5\"] = data[\"list\"][0][\"components\"][\"pm2_5\"]\n",
    "        usa_df.loc[index, \"PM10\"] = data[\"list\"][0][\"components\"][\"pm10\"]\n",
    "        usa_df.loc[index, \"NH3\"] = data[\"list\"][0][\"components\"][\"nh3\"]\n",
    "        \n",
    "        \n",
    "    except Exception as e:\n",
    "        # If city is not found, log the error.\n",
    "        print(f\"{e.args} not found for {usa_df.loc[index, 'city']}\")\n",
    "        \n",
    "    print(f\"Appending results for {city}\")"
   ]
  },
  {
   "cell_type": "markdown",
   "metadata": {},
   "source": [
    "#####  Air Quality Index. Possible values: 1, 2, 3, 4, 5. Where 1 = Good, 2 = Fair, 3 = Moderate, 4 = Poor, 5 = Very Poor."
   ]
  },
  {
   "cell_type": "code",
   "execution_count": null,
   "metadata": {},
   "outputs": [],
   "source": [
    "# Preview the updated dataframe and sort the results by AQI in descending order\n",
    "usa_df.head(20).sort_values(by=\"AQI\", ascending=False)"
   ]
  },
  {
   "cell_type": "code",
   "execution_count": null,
   "metadata": {},
   "outputs": [],
   "source": [
    "# Build scatter plot for \n",
    "x = usa_df[\"population\"]\n",
    "y = usa_df[\"CO\"]\n",
    "\n",
    "plt.scatter(x, y, edgecolors=\"black\")\n",
    "\n",
    "# Incorporate the other graph properties\n",
    "plt.title(\"Population vs. Carbon Monoxide Levels\")\n",
    "plt.xlabel(\"Population\")\n",
    "plt.ylabel(\"Carbon Monoxide (CO)\")\n",
    "\n",
    "plt.grid()\n",
    "\n",
    "# Save the figure\n",
    "plt.savefig(\"output_data/Fig1.png\")\n",
    "\n",
    "# Show plot\n",
    "plt.show()"
   ]
  },
  {
   "cell_type": "code",
   "execution_count": null,
   "metadata": {},
   "outputs": [],
   "source": [
    "x = usa_df[\"lat\"]\n",
    "y = usa_df[\"AQI\"]\n",
    "\n",
    "plt.scatter(x, y, edgecolors=\"black\")\n",
    "\n",
    "# Incorporate the other graph properties\n",
    "plt.title(\"City Latitude vs. AQI\")\n",
    "plt.xlabel(\"Latitude\")\n",
    "plt.ylabel(\"Air Quality Index\")\n",
    "\n",
    "plt.grid()\n",
    "\n",
    "# Save the figure\n",
    "plt.savefig(\"output_data/Fig2.png\")\n",
    "\n",
    "# Show plot\n",
    "plt.show()"
   ]
  },
  {
   "cell_type": "code",
   "execution_count": null,
   "metadata": {},
   "outputs": [],
   "source": [
    "%%capture --no-display\n",
    "\n",
    "# Configure the map plot\n",
    "map_plot_1 = usa_df.hvplot.points(\"lng\", \"lat\",  geo = True, tiles = \"OSM\", color = \"city\",\n",
    "                                  hover_cols = [\"city\", \"state\", \"population\"], frame_width=700, frame_height=500)\n",
    "\n",
    "# Display the map\n",
    "map_plot_1"
   ]
  },
  {
   "cell_type": "code",
   "execution_count": null,
   "metadata": {},
   "outputs": [],
   "source": [
    "\"\"\" base_url = \"http://api.openweathermap.org/data/2.5/air_pollution/history?\"\n",
    "\n",
    "start = 1672560000\n",
    "end = 1689776640\n",
    "\n",
    "params = {\"start\":start, \n",
    "          \"end\": end,\n",
    "          \"appid\":api_key}\n",
    "\n",
    "counter = 0\n",
    "\n",
    "for index, row in usa_df.iterrows():\n",
    "    lat = row[\"lat\"]\n",
    "    lng = row[\"lng\"]\n",
    "    \n",
    "    params[\"lat\"] = lat\n",
    "    params[\"lon\"] = lng\n",
    "    \n",
    "    response = requests.get(base_url, params=params)\n",
    "    data = response.json()\n",
    "    \n",
    "    print(json.dumps(data, indent=4))\n",
    "    \n",
    "    \n",
    "    try:\n",
    "        city_df.loc[index, \"CO\"] = response[\"stations\"][0][\"CO\"]\n",
    "        \n",
    "    except Exception as e:\n",
    "        print(f\"{e.args} not found for {city_df.loc[index, 'city']}\") \"\"\""
   ]
  }
 ],
 "metadata": {
  "kernelspec": {
   "display_name": "base",
   "language": "python",
   "name": "python3"
  },
  "language_info": {
   "codemirror_mode": {
    "name": "ipython",
    "version": 3
   },
   "file_extension": ".py",
   "mimetype": "text/x-python",
   "name": "python",
   "nbconvert_exporter": "python",
   "pygments_lexer": "ipython3",
   "version": "3.10.9"
  },
  "orig_nbformat": 4
 },
 "nbformat": 4,
 "nbformat_minor": 2
}
